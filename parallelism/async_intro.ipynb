{
 "cells": [
  {
   "cell_type": "markdown",
   "metadata": {},
   "source": [
    "## Asyncio Introduction"
   ]
  },
  {
   "cell_type": "markdown",
   "metadata": {},
   "source": [
    "- Parallelism means performing multiple operations at the same time\n",
    "- MultiProcessing means spreading tasks across a computers' central processing unit (cores) to achieve parallelism\n",
    "- MultiProcessing is fit for CPU-bound tasks (tightly bound loops and mathematical computations fall in this category)\n",
    "- concurrency means multiple tasks have ability to run in overlapping manner.  It doesn't imply parallelism.  \n",
    "- threading is concurrent execution model where multiple threads take turns executing tasks.  One process can contain multiple threads\n",
    "- threading is better for I/O bound tasks (the gil gets released for io bound tasks)\n",
    "- cpu bound tasks are characterized by computers cores continually workinng hard from start to finish, io bound job is dominated by a lot of waiting time, waiting for an input/output to complete.  \n",
    "- asyncio is single threaded, single process design which uses cooperative multitasking.  coroutines can be scheduled concurrently\n"
   ]
  },
  {
   "cell_type": "markdown",
   "metadata": {},
   "source": [
    "### What does it mean to be asynchronous?"
   ]
  },
  {
   "cell_type": "markdown",
   "metadata": {},
   "source": [
    "- asynchronous routines are able to pause for a while waiting on their ultimate result and let other routines run in the meantime\n",
    "- asynchronous code through the above mechanism, facilitates concurrent execution\n",
    "- Lets look at an example"
   ]
  },
  {
   "cell_type": "code",
   "execution_count": 5,
   "metadata": {},
   "outputs": [],
   "source": [
    "import asyncio\n",
    "import time\n",
    "\n",
    "async def count():\n",
    "    print(\"one\")\n",
    "    await asyncio.sleep(1)\n",
    "    print(\"two\")\n",
    "\n",
    "async def run():\n",
    "    s = time.perf_counter()\n",
    "    await asyncio.gather(count(), count(), count())\n",
    "    e = time.perf_counter()\n",
    "    print(f\"time elapsed: {(e - s):.2f} seconds\")\n"
   ]
  },
  {
   "cell_type": "code",
   "execution_count": 6,
   "metadata": {},
   "outputs": [
    {
     "name": "stdout",
     "output_type": "stream",
     "text": [
      "one\n",
      "one\n",
      "one\n",
      "two\n",
      "two\n",
      "two\n",
      "time elapsed: 1.00 seconds\n"
     ]
    }
   ],
   "source": [
    "await run()"
   ]
  },
  {
   "cell_type": "markdown",
   "metadata": {},
   "source": [
    "- order of execution is at the heart of asycio.  talking to each calls to count() is a single event loop, or coordinator\n",
    "when each task reaches await asyncio.sleep(1), the function yells up to event loop and gives contol back to it saying \"im goin to be sleeping for one second, go ahead and let something else meaninful be done in the meantime\"\n",
    "- contrast that with synchronous version"
   ]
  },
  {
   "cell_type": "code",
   "execution_count": 9,
   "metadata": {},
   "outputs": [
    {
     "name": "stdout",
     "output_type": "stream",
     "text": [
      "one\n",
      "two\n",
      "one\n",
      "two\n",
      "one\n",
      "two\n",
      "time elapsed: 3.02 seconds\n"
     ]
    }
   ],
   "source": [
    "def count():\n",
    "    print(\"one\")\n",
    "    time.sleep(1)\n",
    "    print(\"two\")\n",
    "\n",
    "def run():\n",
    "    for _ in range(3):\n",
    "        count()\n",
    "\n",
    "s = time.perf_counter()\n",
    "run()\n",
    "e = time.perf_counter()\n",
    "print(f\"time elapsed: {(e - s):.2f} seconds\")"
   ]
  },
  {
   "cell_type": "markdown",
   "metadata": {},
   "source": [
    "- as you can see, benefit of awaiting something with asyncio.sleep() is that surrounding function can temporarily cede control to another function that is more readily able to do something immediately.  \n",
    "- in contrast, time.sleep() or other blocking call is incompatible with asynchronous python code since it will stop everything in its tracks for the duration of sleep time"
   ]
  },
  {
   "cell_type": "markdown",
   "metadata": {},
   "source": [
    "## Getting to know Asyncio\n",
    "- many applications in todays web rely heavily on I/O operations like downloading contents of a web page from internet, running several queries together against a database like PostGres.  A web request or communication with a micro service can take hundreds of milliseconds or seconds if network is slow.  a database query can be time intensive if database is under a high load or query is complex.  A web server may need to handle hundreds or thousands of requests at the same time.  \n",
    "- making many of these i/o requests at once can be time consuming and lead to substantial performance bottlenecks.  example. if we write an applicatoin to download 100 pages or run 100 queries each of which takes one second to execute, application will take atleast 100 seconds to run.  \n",
    "- If we use concurrency and start downloads and wait simultaneously, we could complete all of this in under one second\n",
    "- asyncio was introduced as way to handle these concurrent requests outside of multi processing and multi threading.  Properly using this library can lead to drastic performance and resource utilization improvements for applications that are I/O bound as it allows us to start many of these long running tasks together.  \n",
    "\n",
    "## What is Asyncio?"
   ]
  },
  {
   "cell_type": "markdown",
   "metadata": {},
   "source": []
  }
 ],
 "metadata": {
  "kernelspec": {
   "display_name": "neptune_env",
   "language": "python",
   "name": "python3"
  },
  "language_info": {
   "codemirror_mode": {
    "name": "ipython",
    "version": 3
   },
   "file_extension": ".py",
   "mimetype": "text/x-python",
   "name": "python",
   "nbconvert_exporter": "python",
   "pygments_lexer": "ipython3",
   "version": "3.11.7"
  }
 },
 "nbformat": 4,
 "nbformat_minor": 2
}
