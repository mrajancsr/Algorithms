{
 "cells": [
  {
   "cell_type": "code",
   "execution_count": 27,
   "metadata": {},
   "outputs": [],
   "source": [
    "# stack\n",
    "class Stack:\n",
    "    # assumes items at the right is top of stack, left is base\n",
    "    def __init__(self):\n",
    "        self.items = []\n",
    "    def is_empty(self):\n",
    "        return self.items == []\n",
    "    def pop(self):\n",
    "        self.items.pop()\n",
    "    def push(self,item):\n",
    "        self.items.append(item)\n",
    "    def peek(self):\n",
    "        return self.items[-1]\n",
    "    def __repr__(self):\n",
    "        return str(self.items)\n",
    "    "
   ]
  },
  {
   "cell_type": "code",
   "execution_count": 32,
   "metadata": {},
   "outputs": [
    {
     "name": "stdout",
     "output_type": "stream",
     "text": [
      "['raju', 'prema']\n",
      "['raju', 'prema', 'haha', 1]\n",
      "['raju', 'prema', 'haha']\n"
     ]
    },
    {
     "data": {
      "text/plain": [
       "'haha'"
      ]
     },
     "execution_count": 32,
     "metadata": {},
     "output_type": "execute_result"
    }
   ],
   "source": [
    "s = Stack()\n",
    "s.push(\"raju\")\n",
    "s.push(\"prema\")\n",
    "print(s)\n",
    "s.push(\"haha\")\n",
    "s.push(1)\n",
    "print(s)\n",
    "s.pop()\n",
    "print(s)\n",
    "s.peek()"
   ]
  },
  {
   "cell_type": "code",
   "execution_count": 36,
   "metadata": {},
   "outputs": [],
   "source": [
    "# Queue \n",
    "class Queue:\n",
    "    def __init__(self):\n",
    "        self.items = []\n",
    "    def is_empty(self):\n",
    "        return self.items == []\n",
    "    def size(self):\n",
    "        return len(self.items)\n",
    "    def enqueue(self,item):\n",
    "        self.items.insert(0,item)\n",
    "    def dequeue(self):\n",
    "        return self.items.pop()\n",
    "    def __repr__(self):\n",
    "        return repr(self.items)"
   ]
  },
  {
   "cell_type": "code",
   "execution_count": 39,
   "metadata": {},
   "outputs": [
    {
     "name": "stdout",
     "output_type": "stream",
     "text": [
      "[10, 5, 3]\n"
     ]
    },
    {
     "data": {
      "text/plain": [
       "3"
      ]
     },
     "execution_count": 39,
     "metadata": {},
     "output_type": "execute_result"
    },
    {
     "name": "stdout",
     "output_type": "stream",
     "text": [
      "['prema', 10, 5]\n"
     ]
    }
   ],
   "source": [
    "q = Queue()\n",
    "q.enqueue(3)\n",
    "q.enqueue(5)\n",
    "q.enqueue(10)\n",
    "print(q)\n",
    "q.dequeue()\n",
    "q.enqueue(\"prema\")\n",
    "print(q)"
   ]
  },
  {
   "cell_type": "code",
   "execution_count": 47,
   "metadata": {},
   "outputs": [],
   "source": [
    "# hot potatoe game\n",
    "# 6 people, keep passing potatoes.  after 5th pass, person holding the potatoe gets \n",
    "# eliminated\n",
    "# bill starts the game and passes to david\n",
    "def hot_potatoe(name_list,num):\n",
    "    sim_queue = Queue()\n",
    "    for name in name_list:\n",
    "        sim_queue.enqueue(name)\n",
    "    while sim_queue.size() > 1:\n",
    "        for i in range(num):\n",
    "            sim_queue.enqueue(sim_queue.dequeue())\n",
    "        sim_queue.dequeue()\n",
    "    return sim_queue"
   ]
  },
  {
   "cell_type": "code",
   "execution_count": 52,
   "metadata": {
    "collapsed": true
   },
   "outputs": [],
   "source": [
    "name_list = ['Brad','Kent','Jane','Susan','David','Bill']\n",
    "q = hot_potatoe(name_list,7)"
   ]
  },
  {
   "cell_type": "code",
   "execution_count": 53,
   "metadata": {},
   "outputs": [
    {
     "name": "stdout",
     "output_type": "stream",
     "text": [
      "['Jane']\n"
     ]
    }
   ],
   "source": [
    "print(q)"
   ]
  },
  {
   "cell_type": "code",
   "execution_count": 65,
   "metadata": {
    "collapsed": true
   },
   "outputs": [],
   "source": [
    "class Deque:\n",
    "    def __init__(self):\n",
    "        self.items = []\n",
    "    def is_empty(self):\n",
    "        return self.items == []\n",
    "    def add_front(self,item):\n",
    "        self.items.insert(0,item)\n",
    "    def add_rear(self,item):\n",
    "        self.items.append(item)\n",
    "    def remove_front(self):\n",
    "        return self.items.pop(0)\n",
    "    def remove_rear(self):\n",
    "        return self.items.pop()\n",
    "    def __repr__(self):\n",
    "        return repr(self.items)\n",
    "    def size(self):\n",
    "        return len(self.items)"
   ]
  },
  {
   "cell_type": "code",
   "execution_count": 66,
   "metadata": {},
   "outputs": [
    {
     "name": "stdout",
     "output_type": "stream",
     "text": [
      "['prema', 'raju']\n",
      "['prema', 'raju', 'james']\n"
     ]
    },
    {
     "data": {
      "text/plain": [
       "'prema'"
      ]
     },
     "execution_count": 66,
     "metadata": {},
     "output_type": "execute_result"
    },
    {
     "name": "stdout",
     "output_type": "stream",
     "text": [
      "['raju', 'james']\n"
     ]
    },
    {
     "data": {
      "text/plain": [
       "'james'"
      ]
     },
     "execution_count": 66,
     "metadata": {},
     "output_type": "execute_result"
    },
    {
     "name": "stdout",
     "output_type": "stream",
     "text": [
      "['raju']\n"
     ]
    }
   ],
   "source": [
    "d = Deque()\n",
    "d.add_front(\"raju\")\n",
    "d.add_front(\"prema\")\n",
    "print(d)\n",
    "d.add_rear(\"james\")\n",
    "print(d)\n",
    "d.remove_front()\n",
    "print(d)\n",
    "d.remove_rear()\n",
    "print(d)"
   ]
  },
  {
   "cell_type": "code",
   "execution_count": 67,
   "metadata": {
    "collapsed": true
   },
   "outputs": [],
   "source": [
    "def is_palindrome(item):\n",
    "    return item == item[::-1]"
   ]
  },
  {
   "cell_type": "code",
   "execution_count": 68,
   "metadata": {},
   "outputs": [
    {
     "data": {
      "text/plain": [
       "True"
      ]
     },
     "execution_count": 68,
     "metadata": {},
     "output_type": "execute_result"
    }
   ],
   "source": [
    "is_palindrome(\"radar\")"
   ]
  },
  {
   "cell_type": "code",
   "execution_count": 69,
   "metadata": {
    "collapsed": true
   },
   "outputs": [],
   "source": [
    "def is_palindrome2(item):\n",
    "    d = Deque()\n",
    "    for i in item:\n",
    "        d.add_front(i)\n",
    "    while d.size() > 1 and True:\n",
    "        first_char = d.remove_front()\n",
    "        last_char = d.remove_rear()\n",
    "        if first_char != last_char:\n",
    "            return False\n",
    "    return True"
   ]
  },
  {
   "cell_type": "code",
   "execution_count": 71,
   "metadata": {},
   "outputs": [
    {
     "name": "stdout",
     "output_type": "stream",
     "text": [
      "The slowest run took 5.64 times longer than the fastest. This could mean that an intermediate result is being cached.\n",
      "100000 loops, best of 3: 3.89 µs per loop\n"
     ]
    }
   ],
   "source": [
    "%timeit is_palindrome2(\"radar\")"
   ]
  },
  {
   "cell_type": "code",
   "execution_count": 72,
   "metadata": {},
   "outputs": [
    {
     "name": "stdout",
     "output_type": "stream",
     "text": [
      "The slowest run took 12.50 times longer than the fastest. This could mean that an intermediate result is being cached.\n",
      "1000000 loops, best of 3: 209 ns per loop\n"
     ]
    }
   ],
   "source": [
    "%timeit is_palindrome(\"radar\")"
   ]
  },
  {
   "cell_type": "code",
   "execution_count": 142,
   "metadata": {},
   "outputs": [],
   "source": [
    "# linked list\n",
    "class Node:\n",
    "    def __init__(self,value):\n",
    "        self.value =  value\n",
    "        self.next = None # pointer points to nothing\n",
    "    def get_data(self):\n",
    "        return self.value\n",
    "    def get_next(self):\n",
    "        return self.next\n",
    "    def __repr__(self):\n",
    "        return repr([self.value,self.next])\n",
    "class Linkedlist:\n",
    "    def __init__(self):\n",
    "        self.head = None\n",
    "    def is_empty(self):\n",
    "        return self.head == []\n",
    "    def __repr__(self):\n",
    "        return repr(self.head)\n",
    "    def print_list(self):\n",
    "        node = self.head # get the node\n",
    "        while node:\n",
    "            print(node.get_data())\n",
    "            node = node.next"
   ]
  },
  {
   "cell_type": "code",
   "execution_count": 143,
   "metadata": {},
   "outputs": [
    {
     "name": "stdout",
     "output_type": "stream",
     "text": [
      "1\n",
      "2\n",
      "3\n"
     ]
    }
   ],
   "source": [
    "p = Linkedlist()\n",
    "p.head = Node(1) # first node is the head\n",
    "n2 = Node(2) # create next node\n",
    "n3 = Node(3) # create next node\n",
    "p.head.next = n2 # link head to 2nd node\n",
    "n2.next= n3\n",
    "p.print_list()"
   ]
  },
  {
   "cell_type": "code",
   "execution_count": 122,
   "metadata": {},
   "outputs": [
    {
     "data": {
      "text/plain": [
       "[1, [2, [3, None]]]"
      ]
     },
     "execution_count": 122,
     "metadata": {},
     "output_type": "execute_result"
    }
   ],
   "source": [
    "p.head"
   ]
  },
  {
   "cell_type": "code",
   "execution_count": null,
   "metadata": {
    "collapsed": true
   },
   "outputs": [],
   "source": []
  }
 ],
 "metadata": {
  "kernelspec": {
   "display_name": "Python 3",
   "language": "python",
   "name": "python3"
  },
  "language_info": {
   "codemirror_mode": {
    "name": "ipython",
    "version": 3
   },
   "file_extension": ".py",
   "mimetype": "text/x-python",
   "name": "python",
   "nbconvert_exporter": "python",
   "pygments_lexer": "ipython3",
   "version": "3.6.8"
  }
 },
 "nbformat": 4,
 "nbformat_minor": 2
}
